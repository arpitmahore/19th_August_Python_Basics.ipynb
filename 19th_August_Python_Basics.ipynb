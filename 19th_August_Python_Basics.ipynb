{
  "nbformat": 4,
  "nbformat_minor": 0,
  "metadata": {
    "colab": {
      "provenance": [],
      "authorship_tag": "ABX9TyMR4nuKmb/heyN7EQpsz3Lv",
      "include_colab_link": true
    },
    "kernelspec": {
      "name": "python3",
      "display_name": "Python 3"
    },
    "language_info": {
      "name": "python"
    }
  },
  "cells": [
    {
      "cell_type": "markdown",
      "metadata": {
        "id": "view-in-github",
        "colab_type": "text"
      },
      "source": [
        "<a href=\"https://colab.research.google.com/github/arpitmahore/19th_August_Python_Basics.ipynb/blob/main/19th_August_Python_Basics.ipynb\" target=\"_parent\"><img src=\"https://colab.research.google.com/assets/colab-badge.svg\" alt=\"Open In Colab\"/></a>"
      ]
    },
    {
      "cell_type": "markdown",
      "source": [
        "Declare two variables, `x` and `y`, and assign them integer values. Swap the\n",
        "values of these variables without using any temporary variable."
      ],
      "metadata": {
        "id": "uaZimrv_f0R2"
      }
    },
    {
      "cell_type": "code",
      "execution_count": null,
      "metadata": {
        "colab": {
          "base_uri": "https://localhost:8080/"
        },
        "id": "xwEIIhU7q0cX",
        "outputId": "b52f6387-37c2-4786-ef53-290621ed9693"
      },
      "outputs": [
        {
          "output_type": "stream",
          "name": "stdout",
          "text": [
            "value of x :  20\n",
            "Value of y :  10\n"
          ]
        }
      ],
      "source": [
        "x=10\n",
        "y=20\n",
        "\n",
        "x,y=y,x #swaping the vlue of x and y\n",
        "\n",
        "print(\"value of x : \",x)\n",
        "print(\"Value of y : \",y)"
      ]
    },
    {
      "cell_type": "markdown",
      "source": [
        " Create a program that calculates the area of a rectangle. Take the length and\n",
        "width as inputs from the user and store them in variables. Calculate and\n",
        "display the area.\n"
      ],
      "metadata": {
        "id": "ewhVI9ezgHBk"
      }
    },
    {
      "cell_type": "code",
      "source": [
        "length = float(input(\"Enter the length : \" ))\n",
        "width = float(input(\"Enter the width  : \"))\n",
        "\n",
        "rectangle = length*width\n",
        "\n",
        "print(rectangle)"
      ],
      "metadata": {
        "colab": {
          "base_uri": "https://localhost:8080/"
        },
        "id": "qUIF2wbasJx_",
        "outputId": "746c8d7f-6424-4fb5-e047-b692a30f4b78"
      },
      "execution_count": null,
      "outputs": [
        {
          "output_type": "stream",
          "name": "stdout",
          "text": [
            "Enter the length : 12.5\n",
            "Enter the width  : 15\n",
            "187.5\n"
          ]
        }
      ]
    },
    {
      "cell_type": "markdown",
      "source": [
        " Write a Python program that converts temperatures from Celsius to\n",
        "Fahrenheit. Take the temperature in Celsius as input, store it in a variable,\n",
        "convert it to Fahrenheit, and display the result.\n"
      ],
      "metadata": {
        "id": "-S48IsZ6gT10"
      }
    },
    {
      "cell_type": "code",
      "source": [
        "celsius = float(input(\"Enter the temperature in Celsius: \"))\n",
        "\n",
        "fahrenheit = (celsius * 9/5) + 32\n",
        "\n",
        "print(\"Temperature in Fahrenheit:\", fahrenheit)\n"
      ],
      "metadata": {
        "colab": {
          "base_uri": "https://localhost:8080/"
        },
        "id": "UttrOPJel_9Z",
        "outputId": "ce6f8695-202d-4767-d0f1-59a4342bd7dc"
      },
      "execution_count": null,
      "outputs": [
        {
          "output_type": "stream",
          "name": "stdout",
          "text": [
            "Enter the temperature in Celsius: 41.5\n",
            "Temperature in Fahrenheit: 106.7\n"
          ]
        }
      ]
    },
    {
      "cell_type": "markdown",
      "source": [
        "Write a Python program that takes a string as input and prints the length of\n",
        "the string."
      ],
      "metadata": {
        "id": "rbsOH1YGg2_0"
      }
    },
    {
      "cell_type": "code",
      "source": [
        "user_string = input(\"Enter a string: \")\n",
        "\n",
        "length_string = len(user_string)\n",
        "\n",
        "print(\"Length of the string:\", length_string)"
      ],
      "metadata": {
        "colab": {
          "base_uri": "https://localhost:8080/"
        },
        "id": "I-AhUNQ7fDW0",
        "outputId": "8e1cbac6-24b2-4e80-8e20-768dac6a8e2e"
      },
      "execution_count": null,
      "outputs": [
        {
          "output_type": "stream",
          "name": "stdout",
          "text": [
            "Enter a string: arpitmahore\n",
            "Length of the string: 11\n"
          ]
        }
      ]
    },
    {
      "cell_type": "markdown",
      "source": [
        "Create a program that takes a sentence from the user and counts the number\n",
        "of vowels (a, e, i, o, u) in the string.\n",
        "\n",
        "\n"
      ],
      "metadata": {
        "id": "khYfEkPLhUdo"
      }
    },
    {
      "cell_type": "code",
      "source": [
        "str=input(\"Enter string : \")\n",
        "count=0\n",
        "vowels=[\"a\",\"e\",\"i\",\"o\",\"u\"]\n",
        "\n",
        "for i in str:\n",
        "  if i in vowels:\n",
        "    count +=1\n",
        "\n",
        "    print(\"vowels in the string is : \",  count)"
      ],
      "metadata": {
        "colab": {
          "base_uri": "https://localhost:8080/"
        },
        "id": "v53vEZKdhMxQ",
        "outputId": "d00eb5b2-104d-439f-e66b-1382b86f7fcc"
      },
      "execution_count": null,
      "outputs": [
        {
          "output_type": "stream",
          "name": "stdout",
          "text": [
            "Enter string : temperature\n",
            "vowels in the string is :  1\n",
            "vowels in the string is :  2\n",
            "vowels in the string is :  3\n",
            "vowels in the string is :  4\n",
            "vowels in the string is :  5\n"
          ]
        }
      ]
    },
    {
      "cell_type": "markdown",
      "source": [
        " Given a string, reverse the order of characters using string slicing and print the reversed string."
      ],
      "metadata": {
        "id": "_zHzfLHOiBma"
      }
    },
    {
      "cell_type": "code",
      "source": [
        "str=\"chhatrpati shivaji maharaj\"\n",
        "\n",
        "str[::-1] #reverse the zstring using indexing\n"
      ],
      "metadata": {
        "colab": {
          "base_uri": "https://localhost:8080/",
          "height": 35
        },
        "id": "_WwDlB5dfZVS",
        "outputId": "697de23d-bed2-4fcf-a53b-788b76d7a964"
      },
      "execution_count": null,
      "outputs": [
        {
          "output_type": "execute_result",
          "data": {
            "text/plain": [
              "'jaraham ijavihs itaprtahhc'"
            ],
            "application/vnd.google.colaboratory.intrinsic+json": {
              "type": "string"
            }
          },
          "metadata": {},
          "execution_count": 4
        }
      ]
    },
    {
      "cell_type": "markdown",
      "source": [
        " Write a program that takes a string as input and checks if it is a palindrome\n",
        "(reads the same forwards and backwards).\n",
        "\n"
      ],
      "metadata": {
        "id": "40K_hoV0hmvn"
      }
    },
    {
      "cell_type": "code",
      "source": [
        "str=input(\"Enter string :\") # Take input string from user\n",
        "\n",
        "rev=str[::-1] # reverse the string using indexing\n",
        "\n",
        "if(str==rev): # compare the string after reversing\n",
        "  print(\"String is palindrome\")\n",
        "else:\n",
        "  print(\" String is not polindrome\")\n"
      ],
      "metadata": {
        "colab": {
          "base_uri": "https://localhost:8080/"
        },
        "id": "Jv2Asy40fkZT",
        "outputId": "3951dd2f-db64-4d60-967d-92e7b44bb3dd"
      },
      "execution_count": null,
      "outputs": [
        {
          "output_type": "stream",
          "name": "stdout",
          "text": [
            "Enter string :arpit mahore\n",
            " String is not polindrome\n"
          ]
        }
      ]
    },
    {
      "cell_type": "markdown",
      "source": [
        "Create a program that takes a string as input and removes all the spaces from\n",
        "it. Print the modified string without spaces."
      ],
      "metadata": {
        "id": "V4ekUO2Chi2o"
      }
    },
    {
      "cell_type": "code",
      "source": [
        "str=input(\"Enter string : \") # take input srting from the user\n",
        "\n",
        "sws=str.replace(\" \",\"\") # remove space using replace function\n",
        "print(\"string without space : \",sws)"
      ],
      "metadata": {
        "colab": {
          "base_uri": "https://localhost:8080/"
        },
        "id": "4ZnE0KmTfxRw",
        "outputId": "82ce63fd-99c0-4142-9df0-e47c965e3cd4"
      },
      "execution_count": null,
      "outputs": [
        {
          "output_type": "stream",
          "name": "stdout",
          "text": [
            "Enter string : Arpit Mahore\n",
            "string without space :  ArpitMahore\n"
          ]
        }
      ]
    }
  ]
}